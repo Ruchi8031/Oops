{
  "nbformat": 4,
  "nbformat_minor": 0,
  "metadata": {
    "colab": {
      "provenance": []
    },
    "kernelspec": {
      "name": "python3",
      "display_name": "Python 3"
    },
    "language_info": {
      "name": "python"
    }
  },
  "cells": [
    {
      "cell_type": "markdown",
      "source": [
        "Oops: Theory"
      ],
      "metadata": {
        "id": "5qcpYqFC6X-z"
      }
    },
    {
      "cell_type": "markdown",
      "source": [
        "1. What is Object-Oriented Programming (OOP)?\n",
        "- OOP is a programming paradigm that organizes code into objects containing attributes (data) and methods (functions). It makes code reusable, modular, and easier to maintain."
      ],
      "metadata": {
        "id": "y7QktOS-6dMG"
      }
    },
    {
      "cell_type": "markdown",
      "source": [
        "2. What is a class in OOP?\n",
        "\n",
        "  - A class is a blueprint or template for creating objects. It defines attributes and methods that its objects will have."
      ],
      "metadata": {
        "id": "U7Vopz5r-3aF"
      }
    },
    {
      "cell_type": "markdown",
      "source": [
        "3. What is an object in OOP?\n",
        "\n",
        "  - An object is an instance of a class. It represents a real-world entity with state (attributes) and behavior (methods)."
      ],
      "metadata": {
        "id": "cxN2Ie1v-3UG"
      }
    },
    {
      "cell_type": "markdown",
      "source": [
        "4. What is the difference between abstraction and encapsulation?\n",
        "\n",
        "  - Abstraction hides implementation details and shows only functionality.\n",
        "\n",
        "  - Encapsulation binds data and methods together, restricting direct access."
      ],
      "metadata": {
        "id": "9ufB2HEY-3Id"
      }
    },
    {
      "cell_type": "markdown",
      "source": [
        "5. What are dunder methods in Python?\n",
        "\n",
        "  - Dunder methods (double underscore) are special methods like __init__, __str__, __add__.They allow operator overloading and custom object behavior."
      ],
      "metadata": {
        "id": "tiRUaRl1-3Pv"
      }
    },
    {
      "cell_type": "markdown",
      "source": [
        "6. Explain the concept of inheritance in OOP.\n",
        "\n",
        "- Inheritance allows a class to acquire attributes and methods of another class.It promotes reusability and hierarchical relationships."
      ],
      "metadata": {
        "id": "7k36z8XN-3F9"
      }
    },
    {
      "cell_type": "markdown",
      "source": [
        "7. What is polymorphism in OOP?\n",
        "\n",
        "  - Polymorphism means “one interface, many implementations.Different classes can define the same method in their own way."
      ],
      "metadata": {
        "id": "GgU2cIEE-3EC"
      }
    },
    {
      "cell_type": "markdown",
      "source": [
        "8. How is encapsulation achieved in Python?\n",
        "\n",
        "  - Encapsulation is achieved using private variables (__var) and getter/setter methods to control access."
      ],
      "metadata": {
        "id": "lbLH9_BY-28L"
      }
    },
    {
      "cell_type": "markdown",
      "source": [
        "9. What is a constructor in Python?\n",
        "\n",
        "  - A constructor is the __init__ method.It automatically initializes object attributes when an object is created."
      ],
      "metadata": {
        "id": "bRqWP9LT-2-0"
      }
    },
    {
      "cell_type": "markdown",
      "source": [
        "10. What are class and static methods in Python?\n",
        "\n",
        "  - Class method (@classmethod) works with class variables and takes cls as a parameter.\n",
        "  - Static method (@staticmethod) does not need self or cls; it acts like a utility function."
      ],
      "metadata": {
        "id": "G5ipjSnH-23s"
      }
    },
    {
      "cell_type": "markdown",
      "source": [
        "11. What is method overloading in Python?\n",
        "\n",
        "  - Python doesn’t support true method overloading.Instead, it uses default arguments or *args to mimic overloading."
      ],
      "metadata": {
        "id": "AzsMt42K-25l"
      }
    },
    {
      "cell_type": "markdown",
      "source": [
        "12. What is method overriding in OOP?\n",
        "\n",
        "  - Method overriding happens when a subclass provides its own version of a method already defined in the parent class."
      ],
      "metadata": {
        "id": "Hq--JzPR-2ze"
      }
    },
    {
      "cell_type": "markdown",
      "source": [
        "13. What is a property decorator in Python?\n",
        "\n",
        "  - @property allows defining getters/setters in a Pythonic way.It makes method access look like attribute access."
      ],
      "metadata": {
        "id": "Ot9hvW7N-21O"
      }
    },
    {
      "cell_type": "markdown",
      "source": [
        "14. Why is polymorphism important in OOP?\n",
        "\n",
        "  - Polymorphism improves flexibility and reusability.It lets the same method name behave differently for different objects."
      ],
      "metadata": {
        "id": "0mTMdz8nCxhb"
      }
    },
    {
      "cell_type": "markdown",
      "source": [
        "15. What is an abstract class in Python?\n",
        "\n",
        "  - An abstract class (from abc module) contains abstract methods that must be implemented by subclasses.It cannot be instantiated directly."
      ],
      "metadata": {
        "id": "Gn1Au4F4-2sS"
      }
    },
    {
      "cell_type": "markdown",
      "source": [
        "16. What are the advantages of OOP?\n",
        "\n",
        "  - OOP provides modularity, code reusability, scalability, abstraction, and easier maintenance."
      ],
      "metadata": {
        "id": "0jQZwcobA4Il"
      }
    },
    {
      "cell_type": "markdown",
      "source": [
        "17. What is the difference between a class variable and an instance variable?\n",
        "\n",
        "  - Class variable: Shared by all objects of the class.Instance variable: Unique to each object."
      ],
      "metadata": {
        "id": "GNq1CFFsA_r9"
      }
    },
    {
      "cell_type": "markdown",
      "source": [
        "18. What is multiple inheritance in Python?\n",
        "\n",
        "  - Multiple inheritance allows a class to inherit from more than one parent class."
      ],
      "metadata": {
        "id": "AYvHgOoyBGRc"
      }
    },
    {
      "cell_type": "markdown",
      "source": [
        "19. Explain the purpose of __str__ and __repr__ methods in Python.\n",
        "\n",
        "  - __str__: Returns a user-friendly string (for printing).\n",
        "\n",
        "  - __repr__: Returns a developer-friendly, unambiguous representation (for debugging)."
      ],
      "metadata": {
        "id": "C6YHV-KSBLhD"
      }
    },
    {
      "cell_type": "markdown",
      "source": [
        "20. What is the significance of the super() function in Python?\n",
        "\n",
        "  - super() allows a subclass to call methods from its parent class.It is commonly used to access the parent constructor or overridden methods."
      ],
      "metadata": {
        "id": "VoliiN9IBcHn"
      }
    },
    {
      "cell_type": "markdown",
      "source": [
        "21. What is the significance of the __del__ method in Python?\n",
        "\n",
        "  - __del__ is a destructor method called when an object is about to be destroyed.It is used to clean up resources like files or network connections."
      ],
      "metadata": {
        "id": "HlaQ3SxFBdUM"
      }
    },
    {
      "cell_type": "markdown",
      "source": [
        "22. What is the difference between @staticmethod and @classmethod in Python?\n",
        "\n",
        "  - @staticmethod: Does not take self or cls; works like a regular function inside a class.\n",
        "\n",
        "  - @classmethod: Takes cls as a parameter and can access class variables/methods."
      ],
      "metadata": {
        "id": "TIaM7ohRBdkm"
      }
    },
    {
      "cell_type": "markdown",
      "source": [
        "23. How does polymorphism work in Python with inheritance?\n",
        "\n",
        "  - Subclasses can override methods of the parent class.\n",
        "\n",
        "  - A parent class reference can call overridden methods on different child objects, enabling runtime polymorphism."
      ],
      "metadata": {
        "id": "cLYKYyKrBlNA"
      }
    },
    {
      "cell_type": "markdown",
      "source": [
        "24. What is method chaining in Python OOP?\n",
        "\n",
        "  - Method chaining is calling multiple methods on the same object in a single line.Methods must return self to allow chaining."
      ],
      "metadata": {
        "id": "JtZUk7-CBwdG"
      }
    },
    {
      "cell_type": "markdown",
      "source": [
        "25. What is the purpose of the __call__ method in Python?\n",
        "\n",
        "  - __call__ makes an object callable like a function.It allows using object instances as if they were functions."
      ],
      "metadata": {
        "id": "FDDUjsgrB2-O"
      }
    },
    {
      "cell_type": "markdown",
      "source": [
        "  Oops Practical Questions:-"
      ],
      "metadata": {
        "id": "3vKveNnL-2p9"
      }
    },
    {
      "cell_type": "code",
      "source": [
        "#Create a parent class Animal with a method speak() that prints a generic message. Create a child class Dog that overrides the speak() method to print \"Bark!\".\n",
        "class Animal:\n",
        "    def speak(self): print(\"Generic sound\")\n",
        "class Dog(Animal):\n",
        "    def speak(self): print(\"Bark!\")\n",
        "Dog().speak()"
      ],
      "metadata": {
        "colab": {
          "base_uri": "https://localhost:8080/"
        },
        "id": "0zEK6cxW8kZr",
        "outputId": "a9a2323a-9055-4bf8-e722-589473c29aaf"
      },
      "execution_count": 35,
      "outputs": [
        {
          "output_type": "stream",
          "name": "stdout",
          "text": [
            "Bark!\n"
          ]
        }
      ]
    },
    {
      "cell_type": "code",
      "source": [
        "#Write a program to create an abstract class Shape with a method area(). Derive classes Circle and Rectangle from it and implement the area() method in both.\n",
        "\n",
        "from abc import ABC, abstractmethod\n",
        "class Shape(ABC):\n",
        "    @abstractmethod\n",
        "    def area(self): pass\n",
        "class Circle(Shape):\n",
        "    def __init__(self,r): self.r=r\n",
        "    def area(self): return 3.14*self.r*self.r\n",
        "class Rectangle(Shape):\n",
        "    def __init__(self,l,w): self.l=l; self.w=w\n",
        "    def area(self): return self.l*self.w\n",
        "print(Circle(5).area(), Rectangle(4,6).area())"
      ],
      "metadata": {
        "colab": {
          "base_uri": "https://localhost:8080/"
        },
        "id": "j89UdTTv8wZM",
        "outputId": "815dc36a-de73-446e-faa7-4d5923eba69d"
      },
      "execution_count": 36,
      "outputs": [
        {
          "output_type": "stream",
          "name": "stdout",
          "text": [
            "78.5 24\n"
          ]
        }
      ]
    },
    {
      "cell_type": "code",
      "source": [
        "#Implement a multi-level inheritance scenario where a class Vehicle has an attribute type. Derive a class Car and further derive a class ElectricCar that adds a battery attribute.\n",
        "\n",
        "class Vehicle:\n",
        "    def __init__(self,t): self.type=t\n",
        "class Car(Vehicle):\n",
        "    def __init__(self,t,m): super().__init__(t); self.model=m\n",
        "class ElectricCar(Car):\n",
        "    def __init__(self,t,m,b): super().__init__(t,m); self.battery=b\n",
        "print(ElectricCar(\"Car\",\"Tesla\",\"100kWh\").battery)"
      ],
      "metadata": {
        "colab": {
          "base_uri": "https://localhost:8080/"
        },
        "id": "PoVd9nzE9ON2",
        "outputId": "f3eb4bab-bdec-4036-9de7-1e03eb9d51cb"
      },
      "execution_count": 37,
      "outputs": [
        {
          "output_type": "stream",
          "name": "stdout",
          "text": [
            "100kWh\n"
          ]
        }
      ]
    },
    {
      "cell_type": "code",
      "source": [
        "#Demonstrate polymorphism by creating a base class Bird with a method fly(). Create two derived classes Sparrow and Penguin that override the fly() method.\n",
        "\n",
        "class Bird:\n",
        "    def fly(self): print(\"Some birds fly\")\n",
        "class Sparrow(Bird):\n",
        "    def fly(self): print(\"Sparrow flies high\")\n",
        "class Penguin(Bird):\n",
        "    def fly(self): print(\"Penguins can't fly\")\n",
        "for b in [Sparrow(), Penguin()]: b.fly()"
      ],
      "metadata": {
        "colab": {
          "base_uri": "https://localhost:8080/"
        },
        "id": "EyjjbIvz9Iby",
        "outputId": "9e1f24a8-4e55-4978-ba0b-c8253d72fbfb"
      },
      "execution_count": 38,
      "outputs": [
        {
          "output_type": "stream",
          "name": "stdout",
          "text": [
            "Sparrow flies high\n",
            "Penguins can't fly\n"
          ]
        }
      ]
    },
    {
      "cell_type": "code",
      "source": [
        "#Write a program to demonstrate encapsulation by creating a class BankAccount with private attributes balance and methods to deposit, withdraw, and check balance.\n",
        "\n",
        "class BankAccount:\n",
        "    def __init__(self): self.__balance=0\n",
        "    def deposit(self,a): self.__balance+=a\n",
        "    def withdraw(self,a): self.__balance-=a\n",
        "    def get_balance(self): return self.__balance\n",
        "acc=BankAccount(); acc.deposit(100); acc.withdraw(40); print(acc.get_balance())"
      ],
      "metadata": {
        "colab": {
          "base_uri": "https://localhost:8080/"
        },
        "id": "yHahLxgH9Wox",
        "outputId": "d6a2a326-d2f1-47af-d761-4ef0696aa50e"
      },
      "execution_count": 39,
      "outputs": [
        {
          "output_type": "stream",
          "name": "stdout",
          "text": [
            "60\n"
          ]
        }
      ]
    },
    {
      "cell_type": "code",
      "source": [
        "#Demonstrate runtime polymorphism using a method play() in a base class Instrument. Derive classes Guitar and Piano that implement their own version of play().\n",
        "\n",
        "class Instrument:\n",
        "    def play(self): print(\"Instrument p#laying\")\n",
        "class Guitar(Instrument):\n",
        "    def play(self): print(\"Strumming Guitar\")\n",
        "class Piano(Instrument):\n",
        "    def play(self): print(\"Playing Piano\")\n",
        "for i in [Guitar(),Piano()]: i.play()"
      ],
      "metadata": {
        "colab": {
          "base_uri": "https://localhost:8080/"
        },
        "id": "M7sDqrX_9W_x",
        "outputId": "654d3d1e-7db8-41f3-897d-6d934a4e1257"
      },
      "execution_count": 40,
      "outputs": [
        {
          "output_type": "stream",
          "name": "stdout",
          "text": [
            "Strumming Guitar\n",
            "Playing Piano\n"
          ]
        }
      ]
    },
    {
      "cell_type": "code",
      "source": [
        "#Create a class MathOperations with a class method add_numbers() to add two numbers and a static method subtract_numbers() to subtract two numbers.\n",
        "\n",
        "class MathOperations:\n",
        "    @classmethod\n",
        "    def add_numbers(cls,a,b): return a+b\n",
        "    @staticmethod\n",
        "    def subtract_numbers(a,b): return a-b\n",
        "print(MathOperations.add_numbers(5,3), MathOperations.subtract_numbers(5,3))"
      ],
      "metadata": {
        "colab": {
          "base_uri": "https://localhost:8080/"
        },
        "id": "pHmVjxEp9ftl",
        "outputId": "e326871b-6a4f-41e9-fef3-a60b0503c9aa"
      },
      "execution_count": 41,
      "outputs": [
        {
          "output_type": "stream",
          "name": "stdout",
          "text": [
            "8 2\n"
          ]
        }
      ]
    },
    {
      "cell_type": "code",
      "source": [
        "#Implement a class Person with a class method to count the total number of persons created.\n",
        "\n",
        "class Person:\n",
        "    count=0\n",
        "    def __init__(self): Person.count+=1\n",
        "    @classmethod\n",
        "    def total_persons(cls): return cls.count\n",
        "p1,p2=Person(),Person(); print(Person.total_persons())"
      ],
      "metadata": {
        "colab": {
          "base_uri": "https://localhost:8080/"
        },
        "id": "0FoUtWFM9fp_",
        "outputId": "652aa1fe-57d3-486e-e623-385cd73eff90"
      },
      "execution_count": 42,
      "outputs": [
        {
          "output_type": "stream",
          "name": "stdout",
          "text": [
            "2\n"
          ]
        }
      ]
    },
    {
      "cell_type": "code",
      "source": [
        "#Write a class Fraction with attributes numerator and denominator. Override the __str__ method to display the fraction.\n",
        "\n",
        "class Fraction:\n",
        "    def __init__(self,n,d): self.n=n; self.d=d\n",
        "    def __str__(self): return f\"{self.n}/{self.d}\"\n",
        "print(Fraction(3,4))"
      ],
      "metadata": {
        "colab": {
          "base_uri": "https://localhost:8080/"
        },
        "id": "bTczZEtJ9fnq",
        "outputId": "e83fe9ad-0662-4a6f-c194-f9ce8bf59b8e"
      },
      "execution_count": 43,
      "outputs": [
        {
          "output_type": "stream",
          "name": "stdout",
          "text": [
            "3/4\n"
          ]
        }
      ]
    },
    {
      "cell_type": "code",
      "source": [
        "#Demonstrate operator overloading by creating a class Vector and overriding the + operator.\n",
        "\n",
        "class Vector:\n",
        "    def __init__(self,x,y): self.x=x; self.y=y\n",
        "    def __add__(self,other): return Vector(self.x+other.x,self.y+other.y)\n",
        "    def __str__(self): return f\"({self.x},{self.y})\"\n",
        "print(Vector(2,3)+Vector(4,5))"
      ],
      "metadata": {
        "colab": {
          "base_uri": "https://localhost:8080/"
        },
        "id": "UmwYXe-_9fQp",
        "outputId": "085143ea-001e-4f7c-a797-5690669f2313"
      },
      "execution_count": 44,
      "outputs": [
        {
          "output_type": "stream",
          "name": "stdout",
          "text": [
            "(6,8)\n"
          ]
        }
      ]
    },
    {
      "cell_type": "code",
      "source": [
        "#Create a class Person with attributes name and age. Add a method greet().\n",
        "\n",
        "class Person:\n",
        "    def __init__(self,n,a): self.name=n; self.age=a\n",
        "    def greet(self): print(f\"Hello, my name is {self.name} and I am {self.age} years old.\")\n",
        "Person(\"Ruchi\",21).greet()"
      ],
      "metadata": {
        "colab": {
          "base_uri": "https://localhost:8080/"
        },
        "id": "_cEgAgIX-BQU",
        "outputId": "9bbb488c-03d7-4fd8-f06b-741da96a0eb9"
      },
      "execution_count": 45,
      "outputs": [
        {
          "output_type": "stream",
          "name": "stdout",
          "text": [
            "Hello, my name is Ruchi and I am 21 years old.\n"
          ]
        }
      ]
    },
    {
      "cell_type": "code",
      "source": [
        "#Implement a class Student with attributes name and grades. Create a method average_grade().\n",
        "\n",
        "class Student:\n",
        "    def __init__(self,n,g): self.name=n; self.grades=g\n",
        "    def average_grade(self): return sum(self.grades)/len(self.grades)\n",
        "print(Student(\"Amit\",[80,90,70]).average_grade())"
      ],
      "metadata": {
        "colab": {
          "base_uri": "https://localhost:8080/"
        },
        "id": "BFDJwaP1-BNH",
        "outputId": "1d622a56-0877-4b75-a2f1-6c3f7fae4d82"
      },
      "execution_count": 46,
      "outputs": [
        {
          "output_type": "stream",
          "name": "stdout",
          "text": [
            "80.0\n"
          ]
        }
      ]
    },
    {
      "cell_type": "code",
      "source": [
        "#Create a class Rectangle with methods set_dimensions() and area().\n",
        "\n",
        "class Rectangle:\n",
        "    def set_dimensions(self,l,w): self.l=l; self.w=w\n",
        "    def area(self): return self.l*self.w\n",
        "r=Rectangle(); r.set_dimensions(5,4); print(r.area())"
      ],
      "metadata": {
        "colab": {
          "base_uri": "https://localhost:8080/"
        },
        "id": "PV9nirLI-BKj",
        "outputId": "b45079be-1d5b-4b23-c996-52399b74179e"
      },
      "execution_count": 47,
      "outputs": [
        {
          "output_type": "stream",
          "name": "stdout",
          "text": [
            "20\n"
          ]
        }
      ]
    },
    {
      "cell_type": "code",
      "source": [
        "#Create a class Employee with calculate_salary(). Create Manager with bonus.\n",
        "\n",
        "class Employee:\n",
        "    def calculate_salary(self,h,r): return h*r\n",
        "class Manager(Employee):\n",
        "    def calculate_salary(self,h,r,b): return super().calculate_salary(h,r)+b\n",
        "print(Manager().calculate_salary(40,200,5000))"
      ],
      "metadata": {
        "colab": {
          "base_uri": "https://localhost:8080/"
        },
        "id": "cI_DESzf-A4K",
        "outputId": "f7443151-12f4-452d-a374-30d112006c40"
      },
      "execution_count": 48,
      "outputs": [
        {
          "output_type": "stream",
          "name": "stdout",
          "text": [
            "13000\n"
          ]
        }
      ]
    },
    {
      "cell_type": "code",
      "source": [
        "#Create a class Product with attributes name, price, quantity. Add total_price().\n",
        "\n",
        "class Product:\n",
        "    def __init__(self,n,p,q): self.name=n; self.price=p; self.qty=q\n",
        "    def total_price(self): return self.price*self.qty\n",
        "print(Product(\"Pen\",10,5).total_price())\n"
      ],
      "metadata": {
        "colab": {
          "base_uri": "https://localhost:8080/"
        },
        "id": "mf8-1q7M-Ayj",
        "outputId": "0c8bfdff-5b53-49eb-dcaa-48aac0123ec4"
      },
      "execution_count": 49,
      "outputs": [
        {
          "output_type": "stream",
          "name": "stdout",
          "text": [
            "50\n"
          ]
        }
      ]
    },
    {
      "cell_type": "code",
      "source": [
        "#Create a class Book with attributes title, author, and year_published. Add get_book_info().\n",
        "\n",
        "class Book:\n",
        "    def __init__(self,t,a,y): self.title=t; self.author=a; self.year=y\n",
        "    def get_book_info(self): return f\"{self.title} by {self.author}, {self.year}\"\n",
        "print(Book(\"Python 101\",\"John\",2020).get_book_info())"
      ],
      "metadata": {
        "colab": {
          "base_uri": "https://localhost:8080/"
        },
        "id": "G3ForB8y-Avn",
        "outputId": "d100c0e4-773e-475c-ab80-5569aff2a105"
      },
      "execution_count": 50,
      "outputs": [
        {
          "output_type": "stream",
          "name": "stdout",
          "text": [
            "Python 101 by John, 2020\n"
          ]
        }
      ]
    },
    {
      "cell_type": "code",
      "source": [
        "#Create a class House with attributes address and price. Create a derived class Mansion that adds number_of_rooms.\n",
        "\n",
        "class House:\n",
        "    def __init__(self,addr,price): self.address=addr; self.price=price\n",
        "class Mansion(House):\n",
        "    def __init__(self,addr,price,rooms): super().__init__(addr,price); self.rooms=rooms\n",
        "m=Mansion(\"Delhi\",5000000,10); print(m.address,m.price,m.rooms)"
      ],
      "metadata": {
        "colab": {
          "base_uri": "https://localhost:8080/"
        },
        "id": "AbKpo0ne9fEX",
        "outputId": "4a348842-324f-4f22-be81-f98196ee4a20"
      },
      "execution_count": 51,
      "outputs": [
        {
          "output_type": "stream",
          "name": "stdout",
          "text": [
            "Delhi 5000000 10\n"
          ]
        }
      ]
    }
  ]
}