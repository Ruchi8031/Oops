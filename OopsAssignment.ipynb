{
  "nbformat": 4,
  "nbformat_minor": 0,
  "metadata": {
    "colab": {
      "provenance": []
    },
    "kernelspec": {
      "name": "python3",
      "display_name": "Python 3"
    },
    "language_info": {
      "name": "python"
    }
  },
  "cells": [
    {
      "cell_type": "markdown",
      "source": [
        "Oops theory questions:-"
      ],
      "metadata": {
        "id": "w1Tt_8_BI3Kk"
      }
    },
    {
      "cell_type": "markdown",
      "source": [
        "1. What is Object-Oriented Programming (OOP)?\n",
        "  - OOP is a programming paradigm that organizes code into objects containing attributes (data) and methods (functions). It makes code reusable, modular, and easier to maintain."
      ],
      "metadata": {
        "id": "mlflZy7_B1I5"
      }
    },
    {
      "cell_type": "markdown",
      "source": [
        "2. What is a class in OOP?\n",
        "  - A class is a blueprint or template for creating objects. It defines attributes and methods that its objects will have."
      ],
      "metadata": {
        "id": "0NRU0YWIB61Y"
      }
    },
    {
      "cell_type": "markdown",
      "source": [
        "3. What is an object in OOP?\n",
        "  - An object is an instance of a class. It represents a real-world entity with state (attributes) and behavior (methods)."
      ],
      "metadata": {
        "id": "JNccmYgXCCjC"
      }
    },
    {
      "cell_type": "markdown",
      "source": [
        "4. What is the difference between abstraction and encapsulation?\n",
        "  - Abstraction hides the implementation details and only shows the functionality (achieved using abstract classes/methods).\n",
        "  - Encapsulation hides the internal data by making variables private and provides controlled access through methods.\n",
        "\n",
        "  - Abstraction focuses on what to do, while Encapsulation focuses on how to protect data."
      ],
      "metadata": {
        "id": "J0sdxZ2PCRum"
      }
    },
    {
      "cell_type": "markdown",
      "source": [
        "5. What are dunder methods in Python?\n",
        "  - Dunder methods (double underscore methods) are special methods like __init__, __str__, __add__. They allow operator overloading, custom object behavior, and make classes behave like built-in types.\n",
        "  - Example: __add__ lets you define how + works for your class."
      ],
      "metadata": {
        "id": "6HpuH5OwCega"
      }
    },
    {
      "cell_type": "markdown",
      "source": [
        "6. Explain the concept of inheritance in OOP.\n",
        "  - Inheritance allows one class (child/derived class) to acquire the attributes and methods of another class (parent/base class).It promotes code reusability and establishes a hierarchical relationship between classes.\n",
        "  - Example: A Dog class can inherit from an Animal class and reuse its properties while adding its own."
      ],
      "metadata": {
        "id": "ZNyEREppCl7E"
      }
    },
    {
      "cell_type": "markdown",
      "source": [
        "7. What is polymorphism in OOP?\n",
        "  - Polymorphism means “one interface, many implementations.Different classes can define the same method in their own way."
      ],
      "metadata": {
        "id": "KLgPOlnbCq76"
      }
    },
    {
      "cell_type": "markdown",
      "source": [
        "8. How is encapsulation achieved in Python?\n",
        "  - Encapsulation is achieved by declaring variables as private using double underscores (__var).\n",
        "\n",
        "  - Access to these private variables is controlled using getter and setter methods. This ensures data hiding and prevents direct modification of sensitive data."
      ],
      "metadata": {
        "id": "m4LvpPwhCwQw"
      }
    },
    {
      "cell_type": "markdown",
      "source": [
        "9. What is a constructor in Python?\n",
        "  - A constructor is the init method.It automatically initializes object attributes when an object is created."
      ],
      "metadata": {
        "id": "-q44bp07C2ZJ"
      }
    },
    {
      "cell_type": "markdown",
      "source": [
        "10.What are class and static methods in Python?\n",
        "  - Class method (@classmethod) works with class variables and takes cls as a parameter.\n",
        "  - Static method (@staticmethod) does not need self or cls; it acts like a utility function."
      ],
      "metadata": {
        "id": "MItYSgStDAxI"
      }
    },
    {
      "cell_type": "markdown",
      "source": [
        "11. What is method overloading in Python?\n",
        "  - Python doesn’t support true method overloading.Instead, it uses default arguments or *args to mimic overloading."
      ],
      "metadata": {
        "id": "U6syRG-QDI1L"
      }
    },
    {
      "cell_type": "markdown",
      "source": [
        "12. What is method overriding in OOP?\n",
        "  - Method overriding happens when a subclass provides its own version of a method already defined in the parent class."
      ],
      "metadata": {
        "id": "UWgxt-o4DNa7"
      }
    },
    {
      "cell_type": "markdown",
      "source": [
        "13. What is a property decorator in Python?\n",
        "  - @property allows defining getters/setters in a Pythonic way.It makes method access look like attribute access."
      ],
      "metadata": {
        "id": "k-OD3BpnDT6O"
      }
    },
    {
      "cell_type": "markdown",
      "source": [
        "14. Why is polymorphism important in OOP?\n",
        "  - Polymorphism improves flexibility and reusability.It lets the same method name behave differently for different objects."
      ],
      "metadata": {
        "id": "P44feMP1DZ6A"
      }
    },
    {
      "cell_type": "markdown",
      "source": [
        "15.What is an abstract class in Python?\n",
        "  - An abstract class (from abc module) contains abstract methods that must be implemented by subclasses.It cannot be instantiated directly."
      ],
      "metadata": {
        "id": "2YKpijVvDfvb"
      }
    },
    {
      "cell_type": "markdown",
      "source": [
        "16.What are the advantages of OOP?\n",
        "  - OOP provides modularity by organizing code into classes and objects.\n",
        "  - It enables code reusability through inheritance.\n",
        "  - It supports scalability for building large, complex systems.\n",
        "  - It offers abstraction to hide implementation details.\n",
        "  - It ensures easier maintenance and flexibility for updates."
      ],
      "metadata": {
        "id": "LLIuCalwDkS-"
      }
    },
    {
      "cell_type": "markdown",
      "source": [
        "17. What is the difference between a class variable and an instance variable?\n",
        "  - Class variable: Declared inside the class but outside methods, and is shared by all objects of the class.\n",
        "\n",
        "  - Instance variable: Declared inside the constructor (__init__) and is unique to each object.\n",
        "\n",
        "  - Changing a class variable affects all instances, while changing an instance variable affects only that specific object."
      ],
      "metadata": {
        "id": "2CcGFaEhDuc7"
      }
    },
    {
      "cell_type": "markdown",
      "source": [
        "18.What is multiple inheritance in Python?\n",
        "  - Multiple inheritance allows a class to inherit from more than one parent class."
      ],
      "metadata": {
        "id": "4oBz2qU2DycF"
      }
    },
    {
      "cell_type": "markdown",
      "source": [
        "19.Explain the purpose of str and repr methods in Python.\n",
        "  - __str__: Returns a user-friendly string representation of the object, mainly for printing and readability.\n",
        "\n",
        "  - __repr__: Returns a developer-friendly, unambiguous string useful for debugging and logging.\n",
        "\n",
        "  - If __str__ is not defined, Python falls back to using __repr__."
      ],
      "metadata": {
        "id": "ey726MZgD0qj"
      }
    },
    {
      "cell_type": "markdown",
      "source": [
        "20.What is the significance of the super() function in Python?\n",
        "  - super() allows a subclass to call methods from its parent class.It is commonly used to access the parent constructor or overridden methods."
      ],
      "metadata": {
        "id": "OVHbe88UD6MJ"
      }
    },
    {
      "cell_type": "markdown",
      "source": [
        "21. What is the significance of the del method in Python?\n",
        "  - del is a destructor method called when an object is about to be destroyed.It is used to clean up resources like files or network connections."
      ],
      "metadata": {
        "id": "2KtRi1_ND_oA"
      }
    },
    {
      "cell_type": "markdown",
      "source": [
        "22. What is the difference between @staticmethod and @classmethod in Python?\n",
        "  - @staticmethod: Does not take self or cls; behaves like a normal function inside a class and cannot access class variables. Use @staticmethod for utility/helper functions related to the class but not dependent on class data.\n",
        "\n",
        "  - @classmethod: Takes cls as a parameter and can access or modify class variables/methods. Use @classmethod when you need to work with the class itself rather than individual objects."
      ],
      "metadata": {
        "id": "x0Ti7nJ-EGNk"
      }
    },
    {
      "cell_type": "markdown",
      "source": [
        "23. How does polymorphism work in Python with inheritance?\n",
        "  - Subclasses can override methods of the parent class.\n",
        "\n",
        "  - A parent class reference can call overridden methods on different child objects, enabling runtime polymorphism.\n",
        "\n",
        "  - This lets the same method name behave differently depending on the object."
      ],
      "metadata": {
        "id": "wgQD0R9QELIW"
      }
    },
    {
      "cell_type": "markdown",
      "source": [
        "24. What is method chaining in Python OOP?\n",
        "  - Method chaining is calling multiple methods on the same object in a single line.\n",
        "  - It works when each method returns self, allowing calls like obj.method1().method2().method3()."
      ],
      "metadata": {
        "id": "ExEFhUG_ERFV"
      }
    },
    {
      "cell_type": "markdown",
      "source": [
        "25. What is the purpose of the call method in Python?\n",
        "  - The __call__ method makes an object callable like a function. It allows you to use object instances as if they were functions.\n",
        "  - Example: defining __call__ in a class lets you do obj() directly."
      ],
      "metadata": {
        "id": "KrHMnw4PEVU5"
      }
    },
    {
      "cell_type": "markdown",
      "source": [
        "Oops Practical Questions:-"
      ],
      "metadata": {
        "id": "1m1RYnvVEajR"
      }
    },
    {
      "cell_type": "code",
      "source": [
        "# Create a parent class Animal with a method speak() that prints a generic message. Create a child class Dog that overrides the speak() method to print \"Bark!\".\n",
        "class Animal:\n",
        "    def speak(self):\n",
        "        print(\"This animal makes a sound\")\n",
        "\n",
        "class Dog(Animal):\n",
        "    def speak(self):\n",
        "        print(\"Bark!\")\n",
        "\n",
        "# Test\n",
        "a = Animal()\n",
        "a.speak()\n",
        "d = Dog()\n",
        "d.speak()"
      ],
      "metadata": {
        "colab": {
          "base_uri": "https://localhost:8080/"
        },
        "id": "Rn3pbdiyFSGy",
        "outputId": "fb93ae7a-fcf8-4098-d174-cbf1e662dffc"
      },
      "execution_count": 18,
      "outputs": [
        {
          "output_type": "stream",
          "name": "stdout",
          "text": [
            "This animal makes a sound\n",
            "Bark!\n"
          ]
        }
      ]
    },
    {
      "cell_type": "code",
      "source": [
        "#Write a program to create an abstract class Shape with a method area(). Derive classes Circle and Rectangle from it and implement the area() method in both.\n",
        "from abc import ABC, abstractmethod\n",
        "import math\n",
        "\n",
        "class Shape(ABC):\n",
        "    @abstractmethod\n",
        "    def area(self):\n",
        "        pass\n",
        "\n",
        "class Circle(Shape):\n",
        "    def __init__(self, radius):\n",
        "        self.radius = radius\n",
        "    def area(self):\n",
        "        return math.pi * self.radius * self.radius\n",
        "\n",
        "class Rectangle(Shape):\n",
        "    def __init__(self, length, breadth):\n",
        "        self.length = length\n",
        "        self.breadth = breadth\n",
        "    def area(self):\n",
        "        return self.length * self.breadth\n",
        "\n",
        "# Test\n",
        "c = Circle(5)\n",
        "print(\"Circle area:\", c.area())\n",
        "r = Rectangle(4, 6)\n",
        "print(\"Rectangle area:\", r.area())"
      ],
      "metadata": {
        "colab": {
          "base_uri": "https://localhost:8080/"
        },
        "id": "aDFM1lnLFTbW",
        "outputId": "110f654e-2bf9-429c-d3bb-c324004e44de"
      },
      "execution_count": 19,
      "outputs": [
        {
          "output_type": "stream",
          "name": "stdout",
          "text": [
            "Circle area: 78.53981633974483\n",
            "Rectangle area: 24\n"
          ]
        }
      ]
    },
    {
      "cell_type": "code",
      "source": [
        "#Implement a multi-level inheritance scenario where a class Vehicle has an attribute type. Derive a class Car and further derive a class ElectricCar that adds a battery attribute.\n",
        "class Vehicle:\n",
        "    def __init__(self, v_type):\n",
        "        self.type = v_type\n",
        "\n",
        "class Car(Vehicle):\n",
        "    def __init__(self, brand, v_type=\"Car\"):\n",
        "        super().__init__(v_type)\n",
        "        self.brand = brand\n",
        "\n",
        "class ElectricCar(Car):\n",
        "    def __init__(self, brand, battery):\n",
        "        super().__init__(brand)\n",
        "        self.battery = battery\n",
        "\n",
        "# Test\n",
        "tesla = ElectricCar(\"Tesla\", \"100 kWh\")\n",
        "print(tesla.type, tesla.brand, tesla.battery)"
      ],
      "metadata": {
        "colab": {
          "base_uri": "https://localhost:8080/"
        },
        "id": "NgY84a-9Gs72",
        "outputId": "52f81a39-81d2-436a-a0ad-bfc1bd354a1c"
      },
      "execution_count": 20,
      "outputs": [
        {
          "output_type": "stream",
          "name": "stdout",
          "text": [
            "Car Tesla 100 kWh\n"
          ]
        }
      ]
    },
    {
      "cell_type": "code",
      "source": [
        "#Demonstrate polymorphism by creating a base class Bird with a method fly(). Create two derived classes Sparrow and Penguin that override the fly() method.\n",
        "class Bird:\n",
        "    def fly(self):\n",
        "        print(\"Some birds can fly\")\n",
        "\n",
        "class Sparrow(Bird):\n",
        "    def fly(self):\n",
        "        print(\"Sparrow flies high!\")\n",
        "\n",
        "class Penguin(Bird):\n",
        "    def fly(self):\n",
        "        print(\"Penguins cannot fly\")\n",
        "\n",
        "# Test\n",
        "for bird in [Sparrow(), Penguin()]:\n",
        "    bird.fly()\n"
      ],
      "metadata": {
        "colab": {
          "base_uri": "https://localhost:8080/"
        },
        "id": "KAn89C_sGxu1",
        "outputId": "dd7895e6-b483-40ae-af9d-7608ae0794c0"
      },
      "execution_count": 21,
      "outputs": [
        {
          "output_type": "stream",
          "name": "stdout",
          "text": [
            "Sparrow flies high!\n",
            "Penguins cannot fly\n"
          ]
        }
      ]
    },
    {
      "cell_type": "code",
      "source": [
        "#Write a program to demonstrate encapsulation by creating a class BankAccount with private attributes balance and methods to deposit, withdraw, and check balance.\n",
        "class BankAccount:\n",
        "    def __init__(self, balance=0):\n",
        "        self.__balance = balance   # private\n",
        "\n",
        "    def deposit(self, amount):\n",
        "        if amount > 0:\n",
        "            self.__balance += amount\n",
        "        else:\n",
        "            print(\"Invalid deposit\")\n",
        "\n",
        "    def withdraw(self, amount):\n",
        "        if 0 < amount <= self.__balance:\n",
        "            self.__balance -= amount\n",
        "        else:\n",
        "            print(\"Insufficient funds\")\n",
        "\n",
        "    def check_balance(self):\n",
        "        return self.__balance\n",
        "\n",
        "# Test\n",
        "acc = BankAccount(1000)\n",
        "acc.deposit(500)\n",
        "acc.withdraw(200)\n",
        "print(\"Balance:\", acc.check_balance())"
      ],
      "metadata": {
        "colab": {
          "base_uri": "https://localhost:8080/"
        },
        "id": "8_AHKSj5G7eu",
        "outputId": "29fb8129-e6df-49ff-a27d-232932804835"
      },
      "execution_count": 22,
      "outputs": [
        {
          "output_type": "stream",
          "name": "stdout",
          "text": [
            "Balance: 1300\n"
          ]
        }
      ]
    },
    {
      "cell_type": "code",
      "source": [
        "# Demonstrate runtime polymorphism using a method play() in a base class Instrument. Derive classes Guitar and Piano that implement their own version of play().\n",
        "class Instrument:\n",
        "    def play(self):\n",
        "        print(\"Playing an instrument\")\n",
        "\n",
        "class Guitar(Instrument):\n",
        "    def play(self):\n",
        "        print(\"Strumming the guitar\")\n",
        "\n",
        "class Piano(Instrument):\n",
        "    def play(self):\n",
        "        print(\"Playing the piano\")\n",
        "\n",
        "# Test\n",
        "for inst in [Guitar(), Piano()]:\n",
        "    inst.play()"
      ],
      "metadata": {
        "colab": {
          "base_uri": "https://localhost:8080/"
        },
        "id": "w_hUZh3QHDfd",
        "outputId": "ff011d3e-506b-4266-a6c8-709250de7b0a"
      },
      "execution_count": 23,
      "outputs": [
        {
          "output_type": "stream",
          "name": "stdout",
          "text": [
            "Strumming the guitar\n",
            "Playing the piano\n"
          ]
        }
      ]
    },
    {
      "cell_type": "code",
      "source": [
        "#Create a class MathOperations with a class method add_numbers() to add two numbers and a static method subtract_numbers() to subtract two numbers.\n",
        "class MathOperations:\n",
        "    @classmethod\n",
        "    def add_numbers(cls, a, b):\n",
        "        return a + b\n",
        "\n",
        "    @staticmethod\n",
        "    def subtract_numbers(a, b):\n",
        "        return a - b\n",
        "\n",
        "# Test\n",
        "print(MathOperations.add_numbers(5, 3))\n",
        "print(MathOperations.subtract_numbers(10, 4))"
      ],
      "metadata": {
        "colab": {
          "base_uri": "https://localhost:8080/"
        },
        "id": "dWdvIJpPHM7b",
        "outputId": "bdfb75fa-7e0e-4469-be08-4d67657b5822"
      },
      "execution_count": 24,
      "outputs": [
        {
          "output_type": "stream",
          "name": "stdout",
          "text": [
            "8\n",
            "6\n"
          ]
        }
      ]
    },
    {
      "cell_type": "code",
      "source": [
        "#Implement a class Person with a class method to count the total number of persons created.\n",
        "class Person:\n",
        "    count = 0\n",
        "\n",
        "    def __init__(self, name):\n",
        "        self.name = name\n",
        "        Person.count += 1\n",
        "\n",
        "    @classmethod\n",
        "    def total_persons(cls):\n",
        "        return cls.count\n",
        "\n",
        "# Test\n",
        "p1 = Person(\"A\")\n",
        "p2 = Person(\"B\")\n",
        "print(\"Total persons:\", Person.total_persons())"
      ],
      "metadata": {
        "colab": {
          "base_uri": "https://localhost:8080/"
        },
        "id": "v3R4ihkNHWV3",
        "outputId": "df36161a-8763-4792-c11e-f1db7ae4668c"
      },
      "execution_count": 25,
      "outputs": [
        {
          "output_type": "stream",
          "name": "stdout",
          "text": [
            "Total persons: 2\n"
          ]
        }
      ]
    },
    {
      "cell_type": "code",
      "source": [
        "#Write a class Fraction with attributes numerator and denominator. Override the __str__ method to display the fraction as \"numerator/denominator\".\n",
        "class Fraction:\n",
        "    def __init__(self, numerator, denominator):\n",
        "        self.numerator = numerator\n",
        "        self.denominator = denominator\n",
        "\n",
        "    def __str__(self):\n",
        "        return f\"{self.numerator}/{self.denominator}\"\n",
        "\n",
        "# Test\n",
        "f = Fraction(3, 4)\n",
        "print(f)"
      ],
      "metadata": {
        "colab": {
          "base_uri": "https://localhost:8080/"
        },
        "id": "L2Zu2EXSHabM",
        "outputId": "bae79581-03be-4bd3-8fa2-15f96787dca8"
      },
      "execution_count": 26,
      "outputs": [
        {
          "output_type": "stream",
          "name": "stdout",
          "text": [
            "3/4\n"
          ]
        }
      ]
    },
    {
      "cell_type": "code",
      "source": [
        "#Demonstrate operator overloading by creating a class Vector and overriding the __add__ method to add two vectors.\n",
        "class Vector:\n",
        "    def __init__(self, x, y):\n",
        "        self.x = x\n",
        "        self.y = y\n",
        "\n",
        "    def __add__(self, other):\n",
        "        return Vector(self.x + other.x, self.y + other.y)\n",
        "\n",
        "    def __str__(self):\n",
        "        return f\"Vector({self.x}, {self.y})\"\n",
        "\n",
        "# Test\n",
        "v1 = Vector(2, 3)\n",
        "v2 = Vector(4, 5)\n",
        "print(v1 + v2)\n"
      ],
      "metadata": {
        "colab": {
          "base_uri": "https://localhost:8080/"
        },
        "id": "cTLyNczzHf0c",
        "outputId": "5accab23-323e-4727-8d5c-b0ee8c05d272"
      },
      "execution_count": 27,
      "outputs": [
        {
          "output_type": "stream",
          "name": "stdout",
          "text": [
            "Vector(6, 8)\n"
          ]
        }
      ]
    },
    {
      "cell_type": "code",
      "source": [
        "#Create a class Person with attributes name and age. Add a method greet() that prints \"Hello, my name is <name> and I am <age> years old.\"\n",
        "class Person:\n",
        "    def __init__(self, name, age):\n",
        "        self.name = name\n",
        "        self.age = age\n",
        "\n",
        "    def greet(self):\n",
        "        print(f\"Hello, my name is {self.name} and I am {self.age} years old.\")\n",
        "\n",
        "# Test\n",
        "p = Person(\"Ruchi\", 25)\n",
        "p.greet()"
      ],
      "metadata": {
        "colab": {
          "base_uri": "https://localhost:8080/"
        },
        "id": "bP4oHyKiHjln",
        "outputId": "4bf59997-8133-4e00-c532-0463c178799f"
      },
      "execution_count": 28,
      "outputs": [
        {
          "output_type": "stream",
          "name": "stdout",
          "text": [
            "Hello, my name is Ruchi and I am 25 years old.\n"
          ]
        }
      ]
    },
    {
      "cell_type": "code",
      "source": [
        "#Implement a class Student with attributes name and grades. Create a method average_grade() to compute the average of the grades.\n",
        "class Student:\n",
        "    def __init__(self, name, grades):\n",
        "        self.name = name\n",
        "        self.grades = grades   # list of grades\n",
        "\n",
        "    def average_grade(self):\n",
        "        if len(self.grades) == 0:\n",
        "            return 0\n",
        "        return sum(self.grades) / len(self.grades)\n",
        "\n",
        "# Test\n",
        "s1 = Student(\"Ruchi\", [85, 90, 78, 92])\n",
        "print(s1.name, \"Average Grade:\", s1.average_grade())"
      ],
      "metadata": {
        "colab": {
          "base_uri": "https://localhost:8080/"
        },
        "id": "ZkWyRS00Hl_d",
        "outputId": "6bbfb53d-784e-473f-b441-a9c4fa2bc2e9"
      },
      "execution_count": 29,
      "outputs": [
        {
          "output_type": "stream",
          "name": "stdout",
          "text": [
            "Ruchi Average Grade: 86.25\n"
          ]
        }
      ]
    },
    {
      "cell_type": "code",
      "source": [
        "#Create a class Rectangle with methods set_dimensions() to set the dimensions and area() to calculate the area.\n",
        "class Rectangle:\n",
        "    def __init__(self):\n",
        "        self.length = 0\n",
        "        self.breadth = 0\n",
        "\n",
        "    def set_dimensions(self, length, breadth):\n",
        "        self.length = length\n",
        "        self.breadth = breadth\n",
        "\n",
        "    def area(self):\n",
        "        return self.length * self.breadth\n",
        "\n",
        "# Test\n",
        "r = Rectangle()\n",
        "r.set_dimensions(5, 3)\n",
        "print(\"Rectangle area:\", r.area())"
      ],
      "metadata": {
        "colab": {
          "base_uri": "https://localhost:8080/"
        },
        "id": "0WEllpYBH-NX",
        "outputId": "c50ddd80-00af-4850-d393-dff0d6d083af"
      },
      "execution_count": 30,
      "outputs": [
        {
          "output_type": "stream",
          "name": "stdout",
          "text": [
            "Rectangle area: 15\n"
          ]
        }
      ]
    },
    {
      "cell_type": "code",
      "source": [
        "#Create a class Employee with a method calculate_salary() that computes the salary based on hours worked and hourly rate. Create a derived class Manager that adds a bonus to the salary.\n",
        "class Employee:\n",
        "    def __init__(self, name, hours_worked, hourly_rate):\n",
        "        self.name = name\n",
        "        self.hours_worked = hours_worked\n",
        "        self.hourly_rate = hourly_rate\n",
        "\n",
        "    def calculate_salary(self):\n",
        "        return self.hours_worked * self.hourly_rate\n",
        "\n",
        "class Manager(Employee):\n",
        "    def __init__(self, name, hours_worked, hourly_rate, bonus):\n",
        "        super().__init__(name, hours_worked, hourly_rate)\n",
        "        self.bonus = bonus\n",
        "\n",
        "    def calculate_salary(self):\n",
        "        base_salary = super().calculate_salary()\n",
        "        return base_salary + self.bonus\n",
        "\n",
        "# Test\n",
        "emp = Employee(\"John\", 40, 200)\n",
        "mgr = Manager(\"Ruchi\", 45, 300, 5000)\n",
        "\n",
        "print(emp.name, \"Salary:\", emp.calculate_salary())\n",
        "print(mgr.name, \"Salary:\", mgr.calculate_salary())"
      ],
      "metadata": {
        "colab": {
          "base_uri": "https://localhost:8080/"
        },
        "id": "wasWm9_1IW7K",
        "outputId": "9f97d635-a57b-431b-d497-5e1d5d2a7c69"
      },
      "execution_count": 31,
      "outputs": [
        {
          "output_type": "stream",
          "name": "stdout",
          "text": [
            "John Salary: 8000\n",
            "Ruchi Salary: 18500\n"
          ]
        }
      ]
    },
    {
      "cell_type": "code",
      "source": [
        "#Create a class Product with attributes name, price, and quantity. Implement a method total_price() that calculates the total price of the product.\n",
        "class Product:\n",
        "    def __init__(self, name, price, quantity):\n",
        "        self.name = name\n",
        "        self.price = price\n",
        "        self.quantity = quantity\n",
        "\n",
        "    def total_price(self):\n",
        "        return self.price * self.quantity\n",
        "\n",
        "# Test\n",
        "p1 = Product(\"Laptop\", 50000, 2)\n",
        "print(f\"Total price for {p1.name}: ₹{p1.total_price()}\")"
      ],
      "metadata": {
        "colab": {
          "base_uri": "https://localhost:8080/"
        },
        "id": "eNisneyZIc1b",
        "outputId": "5f4eaf20-c461-4319-c417-1341e10854c8"
      },
      "execution_count": 32,
      "outputs": [
        {
          "output_type": "stream",
          "name": "stdout",
          "text": [
            "Total price for Laptop: ₹100000\n"
          ]
        }
      ]
    },
    {
      "cell_type": "code",
      "source": [
        "#Create a class Animal with an abstract method sound(). Create two derived classes Cow and Sheep that implement the sound() method.\n",
        "from abc import ABC, abstractmethod\n",
        "\n",
        "class Animal(ABC):\n",
        "    @abstractmethod\n",
        "    def sound(self):\n",
        "        pass\n",
        "\n",
        "class Cow(Animal):\n",
        "    def sound(self):\n",
        "        return \"Moo\"\n",
        "\n",
        "class Sheep(Animal):\n",
        "    def sound(self):\n",
        "        return \"Baa\"\n",
        "\n",
        "# Test\n",
        "cow = Cow()\n",
        "sheep = Sheep()\n",
        "print(\"Cow sound:\", cow.sound())\n",
        "print(\"Sheep sound:\", sheep.sound())"
      ],
      "metadata": {
        "colab": {
          "base_uri": "https://localhost:8080/"
        },
        "id": "e8W4bVUpIpnJ",
        "outputId": "180dd7f1-a0b8-46e9-fad8-de0dbc387a3a"
      },
      "execution_count": 33,
      "outputs": [
        {
          "output_type": "stream",
          "name": "stdout",
          "text": [
            "Cow sound: Moo\n",
            "Sheep sound: Baa\n"
          ]
        }
      ]
    },
    {
      "cell_type": "code",
      "source": [
        "#Create a class Book with attributes title, author, and year_published. Add a method get_book_info() that returns a formatted string with the book's details.\n",
        "class Book:\n",
        "    def __init__(self, title, author, year_published):\n",
        "        self.title = title\n",
        "        self.author = author\n",
        "        self.year_published = year_published\n",
        "\n",
        "    def get_book_info(self):\n",
        "        return f\"'{self.title}' by {self.author}, published in {self.year_published}\"\n",
        "\n",
        "# Test\n",
        "b1 = Book(\"The Alchemist\", \"Paulo Coelho\", 1988)\n",
        "print(b1.get_book_info())\n",
        "\n"
      ],
      "metadata": {
        "colab": {
          "base_uri": "https://localhost:8080/"
        },
        "id": "X9bdX-PVIuwm",
        "outputId": "cc5fa4b6-2e48-4b5f-a1d6-ae221a553f9c"
      },
      "execution_count": 34,
      "outputs": [
        {
          "output_type": "stream",
          "name": "stdout",
          "text": [
            "'The Alchemist' by Paulo Coelho, published in 1988\n"
          ]
        }
      ]
    },
    {
      "cell_type": "code",
      "source": [
        "#Create a class House with attributes address and price. Create a derived class Mansion that adds an attribute number_of_rooms.\n",
        "class House:\n",
        "    def __init__(self, address, price):\n",
        "        self.address = address\n",
        "        self.price = price\n",
        "\n",
        "class Mansion(House):\n",
        "    def __init__(self, address, price, number_of_rooms):\n",
        "        super().__init__(address, price)\n",
        "        self.number_of_rooms = number_of_rooms\n",
        "\n",
        "# Test\n",
        "m1 = Mansion(\"123 Luxury St, Delhi\", 50000000, 12)\n",
        "print(\"Address:\", m1.address)\n",
        "print(\"Price: ₹\", m1.price)\n",
        "print(\"Rooms:\", m1.number_of_rooms)"
      ],
      "metadata": {
        "colab": {
          "base_uri": "https://localhost:8080/"
        },
        "id": "Q7O1-srnJW8g",
        "outputId": "a811d216-8628-41e6-e554-c424e5bf81a4"
      },
      "execution_count": 35,
      "outputs": [
        {
          "output_type": "stream",
          "name": "stdout",
          "text": [
            "Address: 123 Luxury St, Delhi\n",
            "Price: ₹ 50000000\n",
            "Rooms: 12\n"
          ]
        }
      ]
    }
  ]
}